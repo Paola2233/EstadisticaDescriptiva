{
 "cells": [
  {
   "cell_type": "markdown",
   "source": "# Pipelines de procesamiento para variables numéricas\n\nPrimero, empezaremos hablando de los pipelines para variables numéricas. Más adelante, en este mismo notebook, se abarcarán las variables categóricas.\n\n## Escalamiento lineal\n\n**¿Por qué usarlos?**\n\n-> Modelos de machine laerning eficientes en el rango [-1,1]\n\n**¿Hay diferentes tipos?**\n\n-> max-min, Clipping, Z-score, Winsorizing, etc.\n\n**¿Cuándo usarlos?**\n\n-> Data simétrica o uniformemente distribuida",
   "metadata": {
    "cell_id": "bf09474d-aa12-4c9e-8566-43600c4106e1",
    "tags": [],
    "deepnote_cell_type": "markdown"
   }
  },
  {
   "cell_type": "markdown",
   "source": "Para optimizar el desempeño de nuestro modelo de Machine Learning, es preferible que se obtimicen los datos dentro de del rango comunmente utilizado [-1, 1]. Para eso, hay diferentes tipos de transformación:\n\n### min-max \n\n$$ x \\xrightarrow{\\text{Transformación}} x_s $$\n\ndonde: \n\n$$ x_s=\\frac{2x-min-max}{max-min} $$\n",
   "metadata": {
    "cell_id": "6e8d9e78-b47f-4607-84d5-55456e98fb9d",
    "tags": [],
    "deepnote_cell_type": "markdown"
   }
  },
  {
   "cell_type": "markdown",
   "source": "![Picture title](image-20220301-153734.png)",
   "metadata": {
    "cell_id": "b8a8551b-3714-4310-9b44-2e573fc01e54",
    "tags": [],
    "deepnote_cell_type": "markdown"
   }
  },
  {
   "cell_type": "markdown",
   "source": "### Clipping\n\nEste método no es muy recomendado trabajar con este método. \nLa distribución es recortada entre dos límites (inferior y superior). Los datos que se encuentran dentro del rango no sufrirán ninguna transformación. Sin embargo, los que se encuentran fuera de estos límites serán \"colapsados\", es decir, serán forzados a que se encuentren dentro del rango establecido por los límites. \n\nEstos límites se pueden establecer de forma arbitraria o en base a los percentiles (**método de Winsorizing**).\n",
   "metadata": {
    "cell_id": "4e3885e0-072f-43f8-a584-0ed01fd46696",
    "tags": [],
    "deepnote_cell_type": "markdown"
   }
  },
  {
   "cell_type": "markdown",
   "source": "![Picture title](image-20220301-153850.png)",
   "metadata": {
    "cell_id": "8175c633-448f-42a1-afc9-955226211a57",
    "tags": [],
    "deepnote_cell_type": "markdown"
   }
  },
  {
   "cell_type": "markdown",
   "source": "### Z-score\n\nBasado en la definición de promedio y desviación estándar\n\nTenemos un conjunto de datos y le calculamos el promedio y la desviación estándar. Asumimos que tiene una distribución simétrica (Gaussiana).\n\n$$ {x_1, ..., x_n} \\rightarrow \\mu, \\sigma$$\n\nEntonces, la transformación que se aplica en este método es el siguiente:\n\n$$ x_s=\\frac{x-\\mu}{\\sigma}$$\n\nLa nueva distribución tendrá una forma Gaussiana con $\\mu=0$ y $\\sigma=1$, para ajustarlo al rango [-1,1].\n",
   "metadata": {
    "cell_id": "9ce5c677-6617-434b-9808-720f7c751a01",
    "tags": [],
    "deepnote_cell_type": "markdown"
   }
  },
  {
   "cell_type": "markdown",
   "source": "![Picture title](image-20220301-155908.png)",
   "metadata": {
    "cell_id": "a2d0ccca-cfa9-45bf-a7c0-9cbc10447fbf",
    "tags": [],
    "deepnote_cell_type": "markdown"
   }
  },
  {
   "cell_type": "markdown",
   "source": "## Trasnsformación no lineal\n\n**¿Por qué usarlos?**\n\n-> Datos fuertemente sesgados, no simétricos\n\n**¿Hay diferentes tipos?**\n\n-> Logaritmos, sigmoides, polinomiales, etc.\n\n**¿Cuándo usarlos?**\n\n-> ¡Antes de escalamientos lineales!",
   "metadata": {
    "cell_id": "fb80712c-1352-45cf-b83c-0e2b8e4cfc59",
    "tags": [],
    "deepnote_cell_type": "markdown"
   }
  },
  {
   "cell_type": "markdown",
   "source": "### Tangente hiperbólica\n\nEs una función con un rango [-1, 1], descrita matemáticamente como:\n\n$$x_s=\\tanh(x) $$\n\nEmplear esta función tiene muchas ventajas. Por ejemplo, los outilers que son mapeados con una tangente hiperbólica tendrán un intérvalo más pequeño. Como resultado, se tendrá una distribución menos sesgada y simétrica.\n\nDe igual manera, para calibrar la distribución se emplea un parámetro $a$, de tal forma que\n\n$$x_s=\\tanh(\\frac{x}{a})$$\n",
   "metadata": {
    "cell_id": "8296e724-33c4-4022-8f2f-08b3aebf17e4",
    "tags": [],
    "deepnote_cell_type": "markdown"
   }
  },
  {
   "cell_type": "markdown",
   "source": "![Picture title](image-20220301-183731.png)",
   "metadata": {
    "cell_id": "de404be2-9fca-47ea-b7b9-116b9fc21820",
    "tags": [],
    "deepnote_cell_type": "markdown"
   }
  },
  {
   "cell_type": "markdown",
   "source": "### Raíz cuadrada\n\nDe acuerdo a la curva $y=\\sqrt x$, se tendrá un intervalo para outliers más pequeño que el original, además de que se encuentran menos distantes del grueso de la distribución original.\n",
   "metadata": {
    "cell_id": "b73c6d8e-ec48-414e-bf59-6dfc21d60f44",
    "tags": [],
    "deepnote_cell_type": "markdown"
   }
  },
  {
   "cell_type": "markdown",
   "source": "![Picture title](image-20220301-184123.png)",
   "metadata": {
    "cell_id": "3adecb13-7ffc-440e-8da9-79e84a252e26",
    "tags": [],
    "deepnote_cell_type": "markdown"
   }
  },
  {
   "cell_type": "markdown",
   "source": "## Procesamiento de datos numéricos en Python\n\n### Transformaciones lineales",
   "metadata": {
    "cell_id": "c45d069c-931a-41e5-8260-397254a8b981",
    "tags": [],
    "deepnote_cell_type": "markdown"
   }
  },
  {
   "cell_type": "code",
   "metadata": {
    "tags": [],
    "cell_id": "ff16294c-125e-4ccc-8399-59d6370c6552",
    "deepnote_to_be_reexecuted": false,
    "source_hash": "729eb25d",
    "execution_start": 1646423206353,
    "execution_millis": 7618,
    "deepnote_cell_type": "code"
   },
   "source": "import timeit\nimport numpy as np\nimport pandas as pd\nimport matplotlib.pyplot as plt\nfrom sklearn import datasets, linear_model\n\nX, y = datasets.load_diabetes(return_X_y=True)\nraw = X[:, None, 2]  # Transformación en las dimensiones",
   "execution_count": null,
   "outputs": []
  },
  {
   "cell_type": "code",
   "metadata": {
    "cell_id": "52c5bd8e-9f9e-4fa0-b1ba-e2127c7cd89e",
    "tags": [],
    "deepnote_to_be_reexecuted": false,
    "source_hash": "c5debe1c",
    "execution_start": 1646182344659,
    "execution_millis": 575,
    "deepnote_cell_type": "code"
   },
   "source": "# Reglas de escalamiento\nmax_raw = max(raw)\nmin_raw = min(raw)\nscaled = (2*raw - max_raw - min_raw) / (max_raw - min_raw)\n\nfig, axs = plt.subplots(2, 1, sharex = True)\naxs[0].hist(raw)\naxs[1].hist(scaled)",
   "execution_count": null,
   "outputs": [
    {
     "output_type": "execute_result",
     "execution_count": 5,
     "data": {
      "text/plain": "(array([32., 66., 98., 90., 64., 50., 23., 12.,  5.,  2.]),\n array([-1. , -0.8, -0.6, -0.4, -0.2,  0. ,  0.2,  0.4,  0.6,  0.8,  1. ]),\n <BarContainer object of 10 artists>)"
     },
     "metadata": {}
    },
    {
     "data": {
      "text/plain": "<Figure size 432x288 with 2 Axes>",
      "image/png": "[encoded data removed]"
     },
     "metadata": {
      "needs_background": "light",
      "image/png": {
       "width": 375,
       "height": 250
      }
     },
     "output_type": "display_data"
    }
   ]
  },
  {
   "cell_type": "code",
   "metadata": {
    "cell_id": "bb86f1aa-0332-4e05-bd54-768990daee1d",
    "tags": [],
    "deepnote_to_be_reexecuted": false,
    "source_hash": "283639a",
    "execution_start": 1646182439018,
    "execution_millis": 8,
    "deepnote_cell_type": "code"
   },
   "source": "# Modelos para entrenamiento\ndef train_raw():\n    linear_model.LinearRegression().fit(raw, y)\n\ndef train_scaled():\n    linear_model.LinearRegression().fit(scaled, y)",
   "execution_count": null,
   "outputs": []
  },
  {
   "cell_type": "code",
   "metadata": {
    "cell_id": "e0a9509d-74ef-4f6d-b339-eb46168b0471",
    "tags": [],
    "deepnote_to_be_reexecuted": false,
    "source_hash": "f5769b5b",
    "execution_start": 1646182577622,
    "execution_millis": 86,
    "deepnote_cell_type": "code"
   },
   "source": "raw_time = timeit.timeit(train_raw, number = 100)\nscaled_time = timeit.timeit(train_scaled, number = 100)\n\nprint(f'''train raw: {raw_time}\ntrain scaled: {scaled_time}''')",
   "execution_count": null,
   "outputs": [
    {
     "name": "stdout",
     "text": "\ntrain raw: 0.05115496600046754\ntrain scaled: 0.04325347800113377\n",
     "output_type": "stream"
    }
   ]
  },
  {
   "cell_type": "markdown",
   "source": "* Max-min scaling: mejor para datos uniformemente distribuidos\n* z-score scaling: mejor para datos distribuidos \"normalmente\" (forma de campana de Gauss)",
   "metadata": {
    "cell_id": "09d5e0f6-a4c4-4bdf-9649-af9328f876a2",
    "tags": [],
    "deepnote_cell_type": "markdown"
   }
  },
  {
   "cell_type": "markdown",
   "source": "### Transformaciones no lineales",
   "metadata": {
    "cell_id": "f6b1ff91-d808-4bee-b2e3-6bdf70bd6e3d",
    "tags": [],
    "deepnote_cell_type": "markdown"
   }
  },
  {
   "cell_type": "code",
   "metadata": {
    "cell_id": "efd052c6-3c24-4827-9073-bf000e7ff0cd",
    "tags": [],
    "deepnote_to_be_reexecuted": false,
    "source_hash": "f2d578bb",
    "execution_start": 1646423213979,
    "execution_millis": 278,
    "deepnote_cell_type": "code"
   },
   "source": "df = pd.read_csv('cars.csv')",
   "execution_count": null,
   "outputs": []
  },
  {
   "cell_type": "code",
   "metadata": {
    "cell_id": "7faf1450-b380-471b-951a-d42689170590",
    "tags": [],
    "deepnote_to_be_reexecuted": false,
    "source_hash": "1d9343bd",
    "execution_start": 1646182963567,
    "execution_millis": 815,
    "deepnote_cell_type": "code"
   },
   "source": "df.price_usd.hist()",
   "execution_count": null,
   "outputs": [
    {
     "output_type": "execute_result",
     "execution_count": 12,
     "data": {
      "text/plain": "<AxesSubplot:>"
     },
     "metadata": {}
    },
    {
     "data": {
      "text/plain": "<Figure size 432x288 with 1 Axes>",
      "image/png": "[encoded data removed]"
     },
     "metadata": {
      "needs_background": "light",
      "image/png": {
       "width": 388,
       "height": 248
      }
     },
     "output_type": "display_data"
    }
   ]
  },
  {
   "cell_type": "code",
   "metadata": {
    "cell_id": "ce53c37c-3e1f-4ede-8559-4b0edf274008",
    "tags": [],
    "deepnote_to_be_reexecuted": false,
    "source_hash": "f5a20582",
    "execution_start": 1646423318019,
    "execution_millis": 3,
    "deepnote_cell_type": "code"
   },
   "source": "# Este bloque es solo como información, aquí se calcularon la frecuencia del precio dividido en 10 bins\nbinnedPrice = pd.cut(df['price_usd'], 10)\nbinnedPrice.value_counts()",
   "execution_count": null,
   "outputs": [
    {
     "output_type": "execute_result",
     "execution_count": 6,
     "data": {
      "text/plain": "(-48.999, 5000.9]     20218\n(5000.9, 10000.8]     10523\n(10000.8, 15000.7]     4432\n(15000.7, 20000.6]     1821\n(20000.6, 25000.5]      694\n(25000.5, 30000.4]      377\n(35000.3, 40000.2]      177\n(30000.4, 35000.3]      168\n(40000.2, 45000.1]       68\n(45000.1, 50000.0]       53\nName: price_usd, dtype: int64"
     },
     "metadata": {}
    }
   ]
  },
  {
   "cell_type": "markdown",
   "source": "#### Trasnformación con tanh",
   "metadata": {
    "cell_id": "736de895-c867-4a4e-808e-625f469aeb6a",
    "tags": [],
    "deepnote_cell_type": "markdown"
   }
  },
  {
   "cell_type": "code",
   "metadata": {
    "cell_id": "0b57d3fe-31e4-49bc-8939-5eeb10cd400d",
    "tags": [],
    "deepnote_to_be_reexecuted": false,
    "source_hash": "77ab9d45",
    "execution_start": 1646183222459,
    "execution_millis": 469,
    "deepnote_cell_type": "code"
   },
   "source": "a = 10000  # Para calibrar\ndf.price_usd.apply(lambda x: np.tanh(x/a)).hist()\n\n#podemos observar que obtuvimos una distribución uniforme",
   "execution_count": null,
   "outputs": [
    {
     "output_type": "execute_result",
     "execution_count": 17,
     "data": {
      "text/plain": "<AxesSubplot:>"
     },
     "metadata": {}
    },
    {
     "data": {
      "text/plain": "<Figure size 432x288 with 1 Axes>",
      "image/png": "[encoded data removed]"
     },
     "metadata": {
      "needs_background": "light",
      "image/png": {
       "width": 381,
       "height": 248
      }
     },
     "output_type": "display_data"
    }
   ]
  },
  {
   "cell_type": "markdown",
   "source": "# Pipelines de procesamiento para variables categóricas\n\n## Mapeos numéricos\n\n**Dummy**\n\n-> Representación compacta\n-> Mejor para inputs linealmente independientes\n\n**One-hot**\n\n-> Permite describir categorías no incluidas inicialmente",
   "metadata": {
    "cell_id": "2a49194a-a7f7-4419-b48a-3d0d0a8b30f2",
    "tags": [],
    "deepnote_cell_type": "markdown"
   }
  },
  {
   "cell_type": "markdown",
   "source": "### Dummy\n\nEs una representación compacta. Sin embargo, con este encoding no hay manera de representar valores nulos \"nan\".\n\n### One hot\n\nSe tienen dimensiones de acuerdo a la cantidad de categorías. Aquí sí hay representación de valores \"nan\".\n",
   "metadata": {
    "cell_id": "f4ee3510-4c05-4157-8272-88fb143538d1",
    "tags": [],
    "deepnote_cell_type": "markdown"
   }
  },
  {
   "cell_type": "markdown",
   "source": "![Picture title](image-20220302-132333.png)",
   "metadata": {
    "cell_id": "3b5fea3c-a8ba-49e6-bc45-7503353656d7",
    "tags": [],
    "deepnote_cell_type": "markdown"
   }
  },
  {
   "cell_type": "markdown",
   "source": "## Procesamiento para variables categóricas con Python",
   "metadata": {
    "cell_id": "3f5e9425-ea1f-4ae7-a43a-a2289a43bcf2",
    "tags": [],
    "deepnote_cell_type": "markdown"
   }
  },
  {
   "cell_type": "code",
   "metadata": {
    "cell_id": "7258db83-88c3-455e-b933-b07e8a6c5635",
    "tags": [],
    "deepnote_to_be_reexecuted": false,
    "source_hash": "7083d37c",
    "execution_start": 1646249106835,
    "execution_millis": 235,
    "deepnote_cell_type": "code"
   },
   "source": "# Empleando pandas\nimport pandas as pd\n\ndf = pd.read_csv('cars.csv')",
   "execution_count": null,
   "outputs": []
  },
  {
   "cell_type": "code",
   "metadata": {
    "cell_id": "8cded4e4-75a8-4862-9459-64d6e51fefab",
    "tags": [],
    "deepnote_to_be_reexecuted": false,
    "source_hash": "48707498",
    "execution_start": 1646249275338,
    "execution_millis": 68,
    "deepnote_cell_type": "code"
   },
   "source": "pd.get_dummies(df['engine_type'])",
   "execution_count": null,
   "outputs": [
    {
     "output_type": "execute_result",
     "execution_count": 3,
     "data": {
      "application/vnd.deepnote.dataframe.v3+json": {
       "column_count": 3,
       "row_count": 38531,
       "columns": [
        {
         "name": "diesel",
         "dtype": "uint8",
         "stats": {
          "unique_count": 2,
          "nan_count": 0,
          "min": "0",
          "max": "1",
          "histogram": [
           {
            "bin_start": 0,
            "bin_end": 0.1,
            "count": 25657
           },
           {
            "bin_start": 0.1,
            "bin_end": 0.2,
            "count": 0
           },
           {
            "bin_start": 0.2,
            "bin_end": 0.30000000000000004,
            "count": 0
           },
           {
            "bin_start": 0.30000000000000004,
            "bin_end": 0.4,
            "count": 0
           },
           {
            "bin_start": 0.4,
            "bin_end": 0.5,
            "count": 0
           },
           {
            "bin_start": 0.5,
            "bin_end": 0.6000000000000001,
            "count": 0
           },
           {
            "bin_start": 0.6000000000000001,
            "bin_end": 0.7000000000000001,
            "count": 0
           },
           {
            "bin_start": 0.7000000000000001,
            "bin_end": 0.8,
            "count": 0
           },
           {
            "bin_start": 0.8,
            "bin_end": 0.9,
            "count": 0
           },
           {
            "bin_start": 0.9,
            "bin_end": 1,
            "count": 12874
           }
          ]
         }
        },
        {
         "name": "electric",
         "dtype": "uint8",
         "stats": {
          "unique_count": 2,
          "nan_count": 0,
          "min": "0",
          "max": "1",
          "histogram": [
           {
            "bin_start": 0,
            "bin_end": 0.1,
            "count": 38521
           },
           {
            "bin_start": 0.1,
            "bin_end": 0.2,
            "count": 0
           },
           {
            "bin_start": 0.2,
            "bin_end": 0.30000000000000004,
            "count": 0
           },
           {
            "bin_start": 0.30000000000000004,
            "bin_end": 0.4,
            "count": 0
           },
           {
            "bin_start": 0.4,
            "bin_end": 0.5,
            "count": 0
           },
           {
            "bin_start": 0.5,
            "bin_end": 0.6000000000000001,
            "count": 0
           },
           {
            "bin_start": 0.6000000000000001,
            "bin_end": 0.7000000000000001,
            "count": 0
           },
           {
            "bin_start": 0.7000000000000001,
            "bin_end": 0.8,
            "count": 0
           },
           {
            "bin_start": 0.8,
            "bin_end": 0.9,
            "count": 0
           },
           {
            "bin_start": 0.9,
            "bin_end": 1,
            "count": 10
           }
          ]
         }
        },
        {
         "name": "gasoline",
         "dtype": "uint8"
        },
        {
         "name": "_deepnote_index_column",
         "dtype": "int64"
        }
       ],
       "rows": [
        {
         "diesel": 0,
         "electric": 0,
         "gasoline": 1,
         "_deepnote_index_column": 0
        },
        {
         "diesel": 0,
         "electric": 0,
         "gasoline": 1,
         "_deepnote_index_column": 1
        },
        {
         "diesel": 0,
         "electric": 0,
         "gasoline": 1,
         "_deepnote_index_column": 2
        },
        {
         "diesel": 0,
         "electric": 0,
         "gasoline": 1,
         "_deepnote_index_column": 3
        },
        {
         "diesel": 0,
         "electric": 0,
         "gasoline": 1,
         "_deepnote_index_column": 4
        },
        {
         "diesel": 0,
         "electric": 0,
         "gasoline": 1,
         "_deepnote_index_column": 5
        },
        {
         "diesel": 0,
         "electric": 0,
         "gasoline": 1,
         "_deepnote_index_column": 6
        },
        {
         "diesel": 0,
         "electric": 0,
         "gasoline": 1,
         "_deepnote_index_column": 7
        },
        {
         "diesel": 0,
         "electric": 0,
         "gasoline": 1,
         "_deepnote_index_column": 8
        },
        {
         "diesel": 0,
         "electric": 0,
         "gasoline": 1,
         "_deepnote_index_column": 9
        }
       ]
      },
      "text/plain": "       diesel  electric  gasoline\n0           0         0         1\n1           0         0         1\n2           0         0         1\n3           0         0         1\n4           0         0         1\n...       ...       ...       ...\n38526       0         0         1\n38527       1         0         0\n38528       0         0         1\n38529       0         0         1\n38530       0         0         1\n\n[38531 rows x 3 columns]",
      "text/html": "<div>\n<style scoped>\n    .dataframe tbody tr th:only-of-type {\n        vertical-align: middle;\n    }\n\n    .dataframe tbody tr th {\n        vertical-align: top;\n    }\n\n    .dataframe thead th {\n        text-align: right;\n    }\n</style>\n<table border=\"1\" class=\"dataframe\">\n  <thead>\n    <tr style=\"text-align: right;\">\n      <th></th>\n      <th>diesel</th>\n      <th>electric</th>\n      <th>gasoline</th>\n    </tr>\n  </thead>\n  <tbody>\n    <tr>\n      <th>0</th>\n      <td>0</td>\n      <td>0</td>\n      <td>1</td>\n    </tr>\n    <tr>\n      <th>1</th>\n      <td>0</td>\n      <td>0</td>\n      <td>1</td>\n    </tr>\n    <tr>\n      <th>2</th>\n      <td>0</td>\n      <td>0</td>\n      <td>1</td>\n    </tr>\n    <tr>\n      <th>3</th>\n      <td>0</td>\n      <td>0</td>\n      <td>1</td>\n    </tr>\n    <tr>\n      <th>4</th>\n      <td>0</td>\n      <td>0</td>\n      <td>1</td>\n    </tr>\n    <tr>\n      <th>...</th>\n      <td>...</td>\n      <td>...</td>\n      <td>...</td>\n    </tr>\n    <tr>\n      <th>38526</th>\n      <td>0</td>\n      <td>0</td>\n      <td>1</td>\n    </tr>\n    <tr>\n      <th>38527</th>\n      <td>1</td>\n      <td>0</td>\n      <td>0</td>\n    </tr>\n    <tr>\n      <th>38528</th>\n      <td>0</td>\n      <td>0</td>\n      <td>1</td>\n    </tr>\n    <tr>\n      <th>38529</th>\n      <td>0</td>\n      <td>0</td>\n      <td>1</td>\n    </tr>\n    <tr>\n      <th>38530</th>\n      <td>0</td>\n      <td>0</td>\n      <td>1</td>\n    </tr>\n  </tbody>\n</table>\n<p>38531 rows × 3 columns</p>\n</div>"
     },
     "metadata": {}
    }
   ]
  },
  {
   "cell_type": "code",
   "metadata": {
    "cell_id": "f721dddd-ecd5-4c28-b559-062f2efdac05",
    "tags": [],
    "deepnote_to_be_reexecuted": false,
    "source_hash": "c4b8534e",
    "execution_start": 1646249623351,
    "execution_millis": 8,
    "deepnote_cell_type": "code"
   },
   "source": "# Empleando sklearn\nimport sklearn.preprocessing as preprocessing\nencoder = preprocessing.OneHotEncoder(handle_unknown='ignore')",
   "execution_count": null,
   "outputs": []
  },
  {
   "cell_type": "code",
   "metadata": {
    "cell_id": "a85564df-f313-4c06-8f79-46d23ddb9acc",
    "tags": [],
    "deepnote_to_be_reexecuted": false,
    "source_hash": "5fab404e",
    "execution_start": 1646249667913,
    "execution_millis": 8,
    "deepnote_cell_type": "code"
   },
   "source": "encoder.fit(df[['engine_type']].values)",
   "execution_count": null,
   "outputs": [
    {
     "output_type": "execute_result",
     "execution_count": 5,
     "data": {
      "text/plain": "OneHotEncoder(handle_unknown='ignore')"
     },
     "metadata": {}
    }
   ]
  },
  {
   "cell_type": "code",
   "metadata": {
    "cell_id": "2ed46567-bba7-4867-b97a-fa8ab5de7bc8",
    "tags": [],
    "deepnote_to_be_reexecuted": false,
    "source_hash": "ea0aa29e",
    "execution_start": 1646249759810,
    "execution_millis": 5,
    "deepnote_cell_type": "code"
   },
   "source": "encoder.transform([['gasoline'],['diesel'],['aceite']]).toarray()",
   "execution_count": null,
   "outputs": [
    {
     "output_type": "execute_result",
     "execution_count": 7,
     "data": {
      "text/plain": "array([[0., 0., 1.],\n       [1., 0., 0.],\n       [0., 0., 0.]])"
     },
     "metadata": {}
    }
   ]
  },
  {
   "cell_type": "code",
   "metadata": {
    "cell_id": "fda03fdd-7aa1-4cc9-9bf6-285c34c8dc06",
    "tags": [],
    "deepnote_to_be_reexecuted": false,
    "source_hash": "ee182087",
    "execution_start": 1646249897135,
    "execution_millis": 4,
    "deepnote_cell_type": "code"
   },
   "source": "encoder.fit(df[['year_produced']].values)",
   "execution_count": null,
   "outputs": [
    {
     "output_type": "execute_result",
     "execution_count": 8,
     "data": {
      "text/plain": "OneHotEncoder(handle_unknown='ignore')"
     },
     "metadata": {}
    }
   ]
  },
  {
   "cell_type": "code",
   "metadata": {
    "cell_id": "2c882c1b-b4e0-4772-a558-6cb9dd17c784",
    "tags": [],
    "deepnote_to_be_reexecuted": false,
    "source_hash": "829b4df1",
    "execution_start": 1646250058440,
    "execution_millis": 11,
    "deepnote_cell_type": "code"
   },
   "source": "encoder.transform([[2016],[2009],[1990]]).toarray()",
   "execution_count": null,
   "outputs": [
    {
     "output_type": "execute_result",
     "execution_count": 9,
     "data": {
      "text/plain": "array([[0., 0., 0., 0., 0., 0., 0., 0., 0., 0., 0., 0., 0., 0., 0., 0.,\n        0., 0., 0., 0., 0., 0., 0., 0., 0., 0., 0., 0., 0., 0., 0., 0.,\n        0., 0., 0., 0., 0., 0., 0., 0., 0., 0., 0., 0., 0., 0., 0., 0.,\n        0., 0., 0., 0., 0., 0., 0., 0., 0., 0., 0., 0., 1., 0., 0., 0.],\n       [0., 0., 0., 0., 0., 0., 0., 0., 0., 0., 0., 0., 0., 0., 0., 0.,\n        0., 0., 0., 0., 0., 0., 0., 0., 0., 0., 0., 0., 0., 0., 0., 0.,\n        0., 0., 0., 0., 0., 0., 0., 0., 0., 0., 0., 0., 0., 0., 0., 0.,\n        0., 0., 0., 0., 0., 1., 0., 0., 0., 0., 0., 0., 0., 0., 0., 0.],\n       [0., 0., 0., 0., 0., 0., 0., 0., 0., 0., 0., 0., 0., 0., 0., 0.,\n        0., 0., 0., 0., 0., 0., 0., 0., 0., 0., 0., 0., 0., 0., 0., 0.,\n        0., 0., 1., 0., 0., 0., 0., 0., 0., 0., 0., 0., 0., 0., 0., 0.,\n        0., 0., 0., 0., 0., 0., 0., 0., 0., 0., 0., 0., 0., 0., 0., 0.]])"
     },
     "metadata": {}
    }
   ]
  },
  {
   "cell_type": "markdown",
   "source": "La desventaja del one-hot es que cada elemento de los vectores resultantes es como si fueran nuevas variables, por ende, esto aumenta la dimensionalidad de nuestro dataset y se vea afectado el rendimiento.",
   "metadata": {
    "cell_id": "daa7e0cc-7907-4faf-8385-0b7408dfcbc4",
    "tags": [],
    "deepnote_cell_type": "markdown"
   }
  },
  {
   "cell_type": "markdown",
   "source": "<a style='text-decoration:none;line-height:16px;display:flex;color:#5B5B62;padding:10px;justify-content:end;' href='https://deepnote.com?utm_source=created-in-deepnote-cell&projectId=2f24a598-9a01-4bdb-9cd6-2158968b044c' target=\"_blank\">\n<img alt='Created in deepnote.com' style='display:inline;max-height:16px;margin:0px;margin-right:7.5px;' src='data:image/svg+xml;base64,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' > </img>\nCreated in <span style='font-weight:600;margin-left:4px;'>Deepnote</span></a>",
   "metadata": {
    "tags": [],
    "created_in_deepnote_cell": true,
    "deepnote_cell_type": "markdown"
   }
  }
 ],
 "nbformat": 4,
 "nbformat_minor": 2,
 "metadata": {
  "orig_nbformat": 2,
  "deepnote": {
   "is_reactive": false
  },
  "deepnote_notebook_id": "9c2bd28f-e941-49f4-8c55-fd7700b28043",
  "deepnote_execution_queue": []
 }
}