{
 "cells": [
  {
   "cell_type": "markdown",
   "source": "# Desviación estándar\n\nLa variabilidad nos dice que tan dispersos o aglomerados se encuentran nuestros datos. Esta dispersión nos dice que tan desviados se encuentran con respecto al valor central. Las dos medidas más conocidas son la varianza y la desviación estándar, las cuales se relacionan de la siguiente manera:\n\n$\\text{varianza} = \\sigma ^2= \\frac{1}{n} \\sum_{i=1}^n (x_i-\\mu)^2$\n\n$\\text{std}=\\sigma=\\sqrt{varianza}= \\sqrt{\\frac{1}{n} \\sum_{i=1}^n (x_i-\\mu)^2 }$\n\nCuando estamos hablando de una MUESTRA de una POBLACIÓN, se realiza de la siguiente manera:\n\n$\\sigma_{sample}= \\sqrt{\\frac{1}{n-1} \\sum_{i=1}^n (x_i-\\mu)^2 }$",
   "metadata": {
    "cell_id": "b64bc492-30ff-46b1-82a2-755a9b12cfd0",
    "tags": [],
    "deepnote_cell_type": "markdown"
   }
  },
  {
   "cell_type": "markdown",
   "source": "![Picture title](image-20220220-184540.png)",
   "metadata": {
    "cell_id": "0690072d-bd84-4e17-a804-61a1aba01a98",
    "tags": [],
    "deepnote_cell_type": "markdown"
   }
  },
  {
   "cell_type": "markdown",
   "source": "# Distribución normal\n\nOtra manera de observar la dispersión de nuestros de nuestros datos es a través de los percentiles, los cuales toman en cuenta los datos ORDENADOS y nos dicen la posición que divide el conjunto de datos en un cierto número de partes. Así pues, la mediana es el percentil 50th. El percentil es lo mismo que el cuantil, pero tomando el porcentaje en fracciones.\n\nAhora, otra medida de variabilidad es calcular la diferencia entre el percentil 25th y el percentil 75th, el cual es conocido como el rango intercuartil (IQR por sus siglas en inglés)",
   "metadata": {
    "cell_id": "87eb36bf-68fc-4ad1-bbb2-d0e501eb7f26",
    "tags": [],
    "deepnote_cell_type": "markdown"
   }
  },
  {
   "cell_type": "markdown",
   "source": "![Picture title](image-20220220-185155.png)",
   "metadata": {
    "cell_id": "c93e31e3-a54f-412e-bcf9-d1cbec56def4",
    "tags": [],
    "deepnote_cell_type": "markdown"
   }
  },
  {
   "cell_type": "markdown",
   "source": "A partir de los percentiles se elabora el gráfico de cajas, como se ilustra en la figura de abajo. Los extremos de la caja corresponden a los percentiles 25 y 75, mientras que la media se marca con una línea dentro de la caja. \nLas líneas que salen de la caja (en inglés se conocen como whiskers) representa el rango de los datos, es decir, los valores mínimos y máximos. Es aquí donde hay que hacer una distinción, ya que los lenguajes R y Python extienden estos valores hasta 1.5 veces el IQR y, los datos que se encuentren fuera de estos rangos se consideran _outliers_.",
   "metadata": {
    "cell_id": "b57964fa-070c-4626-865d-847f75fa10cb",
    "tags": [],
    "deepnote_cell_type": "markdown"
   }
  },
  {
   "cell_type": "markdown",
   "source": "![Picture title](image-20220220-185436.png)",
   "metadata": {
    "cell_id": "4deb739e-c98a-4159-b01f-becbb2913ded",
    "tags": [],
    "deepnote_cell_type": "markdown"
   }
  },
  {
   "cell_type": "markdown",
   "source": "",
   "metadata": {
    "cell_id": "54586669-ce76-4eba-94dd-45d1fb698c22",
    "tags": [],
    "deepnote_cell_type": "markdown"
   }
  },
  {
   "cell_type": "markdown",
   "source": "Entonces, tenemos: \n\n$min = Q_1 -1.5 IQR$\n\n$max = Q_3 + 1.5 IQR$\n\nSin embargo, no siempre la distribución de datos es simétrica, como en la figura de abajo.\n\n",
   "metadata": {
    "cell_id": "b96f387b-5f52-4344-95c7-06544ad3efc6",
    "tags": [],
    "deepnote_cell_type": "markdown"
   }
  },
  {
   "cell_type": "markdown",
   "source": "![Picture title](image-20220220-185919.png)",
   "metadata": {
    "cell_id": "7535a9c4-f960-4043-802c-154741983a55",
    "tags": [],
    "deepnote_cell_type": "markdown"
   }
  },
  {
   "cell_type": "markdown",
   "source": "Entonces, los valores máximos y mínimos se calculan de la siguiente manera:\n\n$Q1 - 1.5 f(IQR)$\n\n$Q3 + 1.5 g(IQR)$\n\nDonde $f()$ y $g()$ son funciones que dependen del rango intercuartil. ",
   "metadata": {
    "cell_id": "935cb247-4a59-47db-a119-d88fca118f06",
    "tags": [],
    "deepnote_cell_type": "markdown"
   }
  },
  {
   "cell_type": "markdown",
   "source": "<a style='text-decoration:none;line-height:16px;display:flex;color:#5B5B62;padding:10px;justify-content:end;' href='https://deepnote.com?utm_source=created-in-deepnote-cell&projectId=2f24a598-9a01-4bdb-9cd6-2158968b044c' target=\"_blank\">\n<img alt='Created in deepnote.com' style='display:inline;max-height:16px;margin:0px;margin-right:7.5px;' src='data:image/svg+xml;base64,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' > </img>\nCreated in <span style='font-weight:600;margin-left:4px;'>Deepnote</span></a>",
   "metadata": {
    "tags": [],
    "created_in_deepnote_cell": true,
    "deepnote_cell_type": "markdown"
   }
  }
 ],
 "nbformat": 4,
 "nbformat_minor": 2,
 "metadata": {
  "orig_nbformat": 2,
  "deepnote": {
   "is_reactive": false
  },
  "deepnote_notebook_id": "2b493f8d-818a-4f04-8e12-bf00db07ba01",
  "deepnote_execution_queue": []
 }
}